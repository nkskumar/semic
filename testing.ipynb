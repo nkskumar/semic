{
 "cells": [
  {
   "cell_type": "code",
   "execution_count": null,
   "id": "135d197a",
   "metadata": {},
   "outputs": [],
   "source": [
    "import pandas as pd"
   ]
  },
  {
   "cell_type": "code",
   "execution_count": null,
   "id": "6f6e1033",
   "metadata": {},
   "outputs": [],
   "source": [
    "fp = \"semic\\\\materials\\\\material_properties.csv\"\n",
    "datacol = ['Si',\n",
    " 'Ge',\n",
    " 'C',\n",
    " 'SiC(3C)',\n",
    " 'SiC(4H)',\n",
    " 'SiC(6H)',\n",
    " 'w-BN',\n",
    " 'c-BN',\n",
    " 'h-BN',\n",
    " 'AlN']\n",
    "data=pd.read_csv(fp)\n",
    "data"
   ]
  },
  {
   "cell_type": "code",
   "execution_count": null,
   "id": "3ed54c27",
   "metadata": {},
   "outputs": [],
   "source": [
    "dft = data.transpose()\n",
    "dft"
   ]
  },
  {
   "cell_type": "code",
   "execution_count": null,
   "id": "fc023ccb",
   "metadata": {},
   "outputs": [],
   "source": [
    "class Semiconductor:\n",
    "    def __init__(self,temp=300):\n",
    "        self.temperature = temp\n",
    "\n",
    "class Si(Semiconductor):\n",
    "    def infrared_refractive_index(self,\n",
    "                                  temp: float=None)-> float:\n",
    "        \"\"\"\n",
    "        Calculates the refractive index based on temperature. This equation only works\n",
    "        on temperature ranges between 77K and 400K.\n",
    "\n",
    "        Parameters\n",
    "        ----------\n",
    "        temp : float, optional\n",
    "            temperature in Kelvin, by default None\n",
    "\n",
    "        Returns\n",
    "        -------\n",
    "        float\n",
    "            The refractive index\n",
    "\n",
    "        Raises\n",
    "        ------\n",
    "        ValueError\n",
    "            Temperature is outside of range specified\n",
    "        \"\"\"\n",
    "        temp = self.abstemp if temp is None else temp\n",
    "\n",
    "        if 77 < temp < 400:\n",
    "            return 3.38 * (1 + (3.9e-5 * temp))\n",
    "        else:\n",
    "            raise ValueError(\"Temperature outside of specified range (77 < temp < 400)!\")"
   ]
  },
  {
   "cell_type": "code",
   "execution_count": null,
   "id": "0262e35d",
   "metadata": {},
   "outputs": [],
   "source": [
    "dev = Si()"
   ]
  },
  {
   "cell_type": "code",
   "execution_count": null,
   "id": "0ecc9922",
   "metadata": {},
   "outputs": [],
   "source": [
    "y = [dev.infrared_refractive_index(i) for i in range(78,399,1)]\n",
    "x = [i for i in range(78,399,1)]"
   ]
  },
  {
   "cell_type": "code",
   "execution_count": null,
   "id": "187d5403",
   "metadata": {},
   "outputs": [],
   "source": [
    "import plotly.graph_objects as go"
   ]
  },
  {
   "cell_type": "code",
   "execution_count": null,
   "id": "d80298b3",
   "metadata": {},
   "outputs": [],
   "source": [
    "fig = go.Figure(data=go.Line(x=x,y=y,mode=\"markers\"))\n",
    "fig.show()"
   ]
  },
  {
   "cell_type": "code",
   "execution_count": null,
   "id": "7d5225e1",
   "metadata": {},
   "outputs": [],
   "source": [
    "from semic.materials.si import Si"
   ]
  },
  {
   "cell_type": "code",
   "execution_count": null,
   "id": "c42fa738",
   "metadata": {},
   "outputs": [],
   "source": [
    "dev = Si()"
   ]
  },
  {
   "cell_type": "code",
   "execution_count": null,
   "id": "d0109bfd",
   "metadata": {},
   "outputs": [],
   "source": [
    "eg = [dev.bandgap_pressure_dependence(i) for i in range(800,int(1e3),int(0.5e1))]\n",
    "pressure = [i for i in range(800,int(1e3),int(0.5e1))]"
   ]
  },
  {
   "cell_type": "code",
   "execution_count": null,
   "id": "59a64087",
   "metadata": {},
   "outputs": [],
   "source": [
    "fig = go.Figure(go.Scatter(x=pressure,y=eg,mode=\"lines\"))\n",
    "fig.show()"
   ]
  },
  {
   "cell_type": "code",
   "execution_count": null,
   "id": "8408c0dc",
   "metadata": {},
   "outputs": [],
   "source": [
    "import operator"
   ]
  },
  {
   "cell_type": "code",
   "execution_count": null,
   "id": "08c352b7",
   "metadata": {},
   "outputs": [],
   "source": [
    "\n",
    "class dummy:\n",
    "    def __init__(self,\n",
    "                 density):\n",
    "        self.density = density\n",
    "    \n",
    "    density = property(operator.attrgetter('_density'))\n",
    "\n",
    "    @property\n",
    "    def density(self):\n",
    "        return self._density\n",
    "    \n",
    "    @density.setter\n",
    "    def density(self,value):\n",
    "        if type(value) != int and type(value) != float:\n",
    "            raise Exception(\"density must be int or float types!\")\n",
    "        elif value <= 0:\n",
    "            raise Exception(\"density must be non-zero and positive!\")\n",
    "        self._density = value"
   ]
  },
  {
   "cell_type": "code",
   "execution_count": null,
   "id": "552867fa",
   "metadata": {},
   "outputs": [],
   "source": [
    "dev = dummy(density = float(3.25))"
   ]
  },
  {
   "cell_type": "code",
   "execution_count": null,
   "id": "8444038e",
   "metadata": {},
   "outputs": [],
   "source": [
    "from semic.materials.si import Si"
   ]
  },
  {
   "cell_type": "code",
   "execution_count": null,
   "id": "c17358fd",
   "metadata": {},
   "outputs": [],
   "source": [
    "import plotly.graph_objects as go\n",
    "dev = Si()"
   ]
  },
  {
   "cell_type": "code",
   "execution_count": null,
   "id": "8f6b5c50",
   "metadata": {},
   "outputs": [],
   "source": [
    "x = [i for i in range(0,301)]\n",
    "eg = [dev.bandgap_temp_dependence(i) for i in range(0,301)]"
   ]
  },
  {
   "cell_type": "code",
   "execution_count": null,
   "id": "afb14178",
   "metadata": {},
   "outputs": [],
   "source": [
    "def bandgap(temp):\n",
    "    return 1.16 - ((0.000702*temp**2) / (temp+1108))\n",
    "\n",
    "eg1 = [bandgap(i) for i in range(0,301)]"
   ]
  },
  {
   "cell_type": "code",
   "execution_count": null,
   "id": "0ac7907f",
   "metadata": {},
   "outputs": [],
   "source": [
    "\n",
    "fig = go.Figure(data=go.Scatter(x=x,y=eg,mode=\"lines\"))\n",
    "fig.add_trace(go.Scatter(x=x,y=eg1,mode=\"lines\"))\n",
    "fig.show()"
   ]
  },
  {
   "cell_type": "code",
   "execution_count": null,
   "id": "78cc3eca",
   "metadata": {},
   "outputs": [],
   "source": [
    "from semic.bjt.bjt import BJT"
   ]
  },
  {
   "cell_type": "code",
   "execution_count": null,
   "id": "42240cfe",
   "metadata": {},
   "outputs": [],
   "source": [
    "dev = BJT(isc=1e-16,ise=1e-16,iss=1e-16,rc=10e-3,tf=2e-6,vaf=10.0)"
   ]
  },
  {
   "cell_type": "code",
   "execution_count": null,
   "id": "a6849a94",
   "metadata": {},
   "outputs": [],
   "source": [
    "import plotly.graph_objects as go\n",
    "import numpy as np"
   ]
  },
  {
   "cell_type": "code",
   "execution_count": null,
   "id": "c0381b55",
   "metadata": {},
   "outputs": [],
   "source": [
    "y = [dev.collector_current(vbc=0.7,vbe=i) for i in np.arange(0.7,1.5,0.001)]\n",
    "x = [i for i in np.arange(-50,1.5,1)]\n",
    "y1 = [dev.base_current(vbc=0.7+i,vbe=i) for i in np.arange(-50,1.5,1)]"
   ]
  },
  {
   "cell_type": "code",
   "execution_count": null,
   "id": "4c46ba21",
   "metadata": {},
   "outputs": [],
   "source": [
    "fig = go.Figure(data=go.Scatter(x=x,y=y1,mode=\"lines\"))\n",
    "#fig.add_trace(go.Scatter(x=x,y=y1))\n",
    "fig.show()"
   ]
  },
  {
   "cell_type": "code",
   "execution_count": 1,
   "id": "a982694c",
   "metadata": {},
   "outputs": [],
   "source": [
    "from semic.math.coordinate import Spherical,Rectangular3D\n",
    "import numpy as np"
   ]
  },
  {
   "cell_type": "code",
   "execution_count": 2,
   "id": "0da5de39",
   "metadata": {},
   "outputs": [],
   "source": [
    "point = Spherical(12.84523257866513,0.6785256342915735,1.0516502125483738)\n",
    "origin = Rectangular3D(0,0,0)\n",
    "point2 = Rectangular3D(4,7,10)"
   ]
  },
  {
   "cell_type": "code",
   "execution_count": 4,
   "id": "1d78917a",
   "metadata": {},
   "outputs": [
    {
     "data": {
      "text/plain": [
       "(12.84523257866513, 38.876655136344326, 60.25511870305778)"
      ]
     },
     "execution_count": 4,
     "metadata": {},
     "output_type": "execute_result"
    }
   ],
   "source": [
    "origin.to_spherical(point2,True)"
   ]
  },
  {
   "cell_type": "code",
   "execution_count": 1,
   "id": "8d96e53a",
   "metadata": {},
   "outputs": [],
   "source": [
    "from semic.interfaces.schottky import SchottkyBarrier\n",
    "\n",
    "dut = SchottkyBarrier(0)"
   ]
  },
  {
   "cell_type": "code",
   "execution_count": 2,
   "id": "45c8c3a0",
   "metadata": {},
   "outputs": [
    {
     "data": {
      "text/plain": [
       "[<matplotlib.lines.Line2D at 0x18aa6ea1730>]"
      ]
     },
     "execution_count": 2,
     "metadata": {},
     "output_type": "execute_result"
    },
    {
     "data": {
      "image/png": "[encoded data removed]",
      "text/plain": [
       "<Figure size 432x288 with 1 Axes>"
      ]
     },
     "metadata": {
      "needs_background": "light"
     },
     "output_type": "display_data"
    }
   ],
   "source": [
    "dut.model()"
   ]
  }
 ],
 "metadata": {
  "kernelspec": {
   "display_name": "Python 3 (ipykernel)",
   "language": "python",
   "name": "python3"
  },
  "language_info": {
   "codemirror_mode": {
    "name": "ipython",
    "version": 3
   },
   "file_extension": ".py",
   "mimetype": "text/x-python",
   "name": "python",
   "nbconvert_exporter": "python",
   "pygments_lexer": "ipython3",
   "version": "3.9.6"
  },
  "vscode": {
   "interpreter": {
    "hash": "ac5e8cb9bc80b8f4fdab1800576dd62fbcb8199f50cef25ab8fe87a222d68a04"
   }
  }
 },
 "nbformat": 4,
 "nbformat_minor": 5
}
